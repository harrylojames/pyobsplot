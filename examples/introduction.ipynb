{
 "cells": [
  {
   "attachments": {},
   "cell_type": "markdown",
   "metadata": {},
   "source": [
    "# pyobsplot\n",
    "\n",
    "**Note :** this notebook is designed to be used on [Google Colab](https://colab.research.google.com/github/juba/pyobsplot/blob/main/examples/introduction.ipynb).\n",
    "\n",
    "[pyobsplot](https://github.com/juba/pyobsplot) is a Python package which allows to use Observable Plot in Jupyter notebooks with a syntax as close as possible to the JavaScript one. For more information, see the [documentation website](https://juba.github.io/pyobsplot).\n",
    "\n",
    "## Getting started\n",
    "\n",
    "First, we install the package:"
   ]
  },
  {
   "cell_type": "code",
   "execution_count": null,
   "metadata": {},
   "outputs": [],
   "source": [
    "# Only needed in Colab, cleanup environment\n",
    "! pip uninstall -y pandas-gbq\n",
    "# Install pyobsplot\n",
    "! pip install pyobsplot"
   ]
  },
  {
   "attachments": {},
   "cell_type": "markdown",
   "metadata": {},
   "source": [
    "Then we can import the needed modules and functions:"
   ]
  },
  {
   "cell_type": "code",
   "execution_count": null,
   "metadata": {},
   "outputs": [],
   "source": [
    "from pyobsplot import Obsplot, Plot, d3, js\n",
    "import polars as pl"
   ]
  },
  {
   "attachments": {},
   "cell_type": "markdown",
   "metadata": {},
   "source": [
    "We can then generate our first plots:"
   ]
  },
  {
   "cell_type": "code",
   "execution_count": null,
   "metadata": {},
   "outputs": [],
   "source": [
    "penguins = pl.read_csv(\"https://github.com/juba/pyobsplot/raw/main/doc/data/penguins.csv\")\n",
    "\n",
    "Obsplot({\n",
    "    \"grid\": True,\n",
    "    \"marks\": [\n",
    "        Plot.dot(penguins, {\"x\": \"culmen_length_mm\", \"y\": \"culmen_depth_mm\", \"fill\": \"island\"})\n",
    "    ]\n",
    "})"
   ]
  },
  {
   "cell_type": "code",
   "execution_count": null,
   "metadata": {},
   "outputs": [],
   "source": [
    "Obsplot({\n",
    "  \"grid\": True,\n",
    "  \"marginRight\": 80,\n",
    "  \"color\": {\"legend\": True},\n",
    "  \"marks\": [\n",
    "    Plot.rectY(penguins, Plot.binX({\"y\": \"count\"}, {\"x\": \"body_mass_g\", \"fill\": \"island\", \"fy\": \"island\"})),\n",
    "    Plot.ruleY([0])\n",
    "  ]\n",
    "})"
   ]
  },
  {
   "attachments": {},
   "cell_type": "markdown",
   "metadata": {},
   "source": [
    "## jsdom renderer\n",
    "\n",
    "By default, plots are created as Jupyter widgets, using the `widget` renderer. `pyobsplot` provides another renderer, called `jsdom`, which generates plots directly as SVG or HTML.\n",
    "\n",
    "To use this renderer, we need to have a working installation of a recent node.js version:"
   ]
  },
  {
   "cell_type": "code",
   "execution_count": null,
   "metadata": {},
   "outputs": [],
   "source": [
    "! curl -fsSL https://deb.nodesource.com/setup_18.x | bash - &&\\\n",
    "! apt-get install -y nodejs"
   ]
  },
  {
   "attachments": {},
   "cell_type": "markdown",
   "metadata": {},
   "source": [
    "And we need to install the `pyobsplot` npm package:"
   ]
  },
  {
   "cell_type": "code",
   "execution_count": null,
   "metadata": {},
   "outputs": [],
   "source": [
    "! npm install pyobsplot"
   ]
  },
  {
   "attachments": {},
   "cell_type": "markdown",
   "metadata": {},
   "source": [
    "Then we can switch to the `jsdom` renderer:"
   ]
  },
  {
   "cell_type": "code",
   "execution_count": null,
   "metadata": {},
   "outputs": [],
   "source": [
    "Obsplot.set_renderer(\"jsdom\")"
   ]
  },
  {
   "attachments": {},
   "cell_type": "markdown",
   "metadata": {},
   "source": [
    "After that, the following plots will be generated directly as SVG or HTML."
   ]
  },
  {
   "cell_type": "code",
   "execution_count": null,
   "metadata": {},
   "outputs": [],
   "source": [
    "from datetime import datetime\n",
    "\n",
    "ipos = pl.read_csv(\"https://github.com/juba/pyobsplot/raw/main/doc/data/ipos.csv\", try_parse_dates=True).filter(\n",
    "    pl.col(\"date\") > datetime(1991, 1, 1)\n",
    ")\n",
    "\n",
    "\n",
    "Obsplot({\n",
    "    \"insetRight\": 10,\n",
    "    \"height\": 600,\n",
    "    \"width\": 600,\n",
    "    \"marks\": [\n",
    "        Plot.dot(\n",
    "            ipos, Plot.dodgeY({\"x\": \"date\", \"r\": \"rMVOP\", \"fill\": \"currentColor\"})\n",
    "        ),\n",
    "        Plot.text(\n",
    "            ipos,\n",
    "            Plot.dodgeY(\n",
    "                {\n",
    "                    \"filter\": js(\"(d) => d.rMVOP > 5e3\"),\n",
    "                    \"x\": \"date\",\n",
    "                    \"r\": \"rMVOP\",\n",
    "                    \"text\": js(\"d => (d.rMVOP / 1e3).toFixed()\"),\n",
    "                    \"fill\": \"white\",\n",
    "                    \"fontWeight\": \"bold\",\n",
    "                }\n",
    "            ),\n",
    "        ),\n",
    "    ],\n",
    "})"
   ]
  },
  {
   "cell_type": "code",
   "execution_count": null,
   "metadata": {},
   "outputs": [],
   "source": [
    "ca55 = pl.read_csv(\"https://github.com/juba/pyobsplot/raw/main/doc/data/ca55-south.csv\")\n",
    "\n",
    "Obsplot({\n",
    "    \"x\": {\"axis\": None},\n",
    "    \"y\": {\"axis\": None},\n",
    "    \"inset\": 10,\n",
    "    \"marginBottom\": 2,\n",
    "    \"height\": 500,\n",
    "    \"color\": {\"type\": \"diverging\"},\n",
    "    \"marks\": [\n",
    "        Plot.raster(\n",
    "            ca55,\n",
    "            {\n",
    "                \"x\": \"LONGITUDE\",\n",
    "                \"y\": \"LATITUDE\",\n",
    "                \"fill\": \"MAG_IGRF90\",\n",
    "                \"interpolate\": \"random-walk\",\n",
    "            },\n",
    "        ),\n",
    "        Plot.frame(),\n",
    "    ],\n",
    "})\n"
   ]
  }
 ],
 "metadata": {
  "kernelspec": {
   "display_name": "pyobsplot-IeWpVr3Z-py3.10",
   "language": "python",
   "name": "python3"
  },
  "language_info": {
   "codemirror_mode": {
    "name": "ipython",
    "version": 3
   },
   "file_extension": ".py",
   "mimetype": "text/x-python",
   "name": "python",
   "nbconvert_exporter": "python",
   "pygments_lexer": "ipython3",
   "version": "3.10.10"
  },
  "orig_nbformat": 4
 },
 "nbformat": 4,
 "nbformat_minor": 2
}
