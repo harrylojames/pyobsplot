{
 "cells": [
  {
   "cell_type": "code",
   "execution_count": 1,
   "metadata": {},
   "outputs": [
    {
     "data": {
      "application/vnd.jupyter.widget-view+json": {
       "model_id": "faab6174af354b4bbcbd6b8bb9e4647e",
       "version_major": 2,
       "version_minor": 0
      },
      "text/plain": [
       "Obsplot(spec={'data': [b'ARROW1\\x00\\x00\\xff\\xff\\xff\\xff\\xd8\\x00\\x00\\x00\\x10\\x00\\x00\\x00\\x00\\x00\\n\\x00\\x0c\\x00\\…"
      ]
     },
     "execution_count": 1,
     "metadata": {},
     "output_type": "execute_result"
    }
   ],
   "source": [
    "import polars as pl\n",
    "from pyobsplot import Obsplot, Plot, d3, Math, js\n",
    "\n",
    "df = pl.DataFrame(\n",
    "    {\"x\": list(range(10)), \"y\": list(range(10))[::-1], \"type\": list(\"aaabbbccdd\")}\n",
    ")\n",
    "\n",
    "# Missing array for marks\n",
    "Obsplot(\n",
    "    {\n",
    "        \"marks\": Plot.dot(df, {\"x\": \"x\", \"y\": \"y\", \"fill\": \"type\"}),\n",
    "    }\n",
    ")\n"
   ]
  },
  {
   "cell_type": "code",
   "execution_count": 6,
   "metadata": {},
   "outputs": [
    {
     "data": {
      "application/vnd.jupyter.widget-view+json": {
       "model_id": "722decd93df14c46990137ac3d137836",
       "version_major": 2,
       "version_minor": 0
      },
      "text/plain": [
       "Obsplot(spec={'data': [b'ARROW1\\x00\\x00\\xff\\xff\\xff\\xff\\xd8\\x00\\x00\\x00\\x10\\x00\\x00\\x00\\x00\\x00\\n\\x00\\x0c\\x00\\…"
      ]
     },
     "execution_count": 6,
     "metadata": {},
     "output_type": "execute_result"
    }
   ],
   "source": [
    "# Wrong method name\n",
    "Obsplot(\n",
    "    {\n",
    "        \"marks\": [Plot.nonexistent(df)]\n",
    "    }\n",
    ")\n"
   ]
  },
  {
   "cell_type": "code",
   "execution_count": 7,
   "metadata": {},
   "outputs": [
    {
     "data": {
      "application/vnd.jupyter.widget-view+json": {
       "model_id": "8ed92699b9ec4a7eb56236300bbcb62e",
       "version_major": 2,
       "version_minor": 0
      },
      "text/plain": [
       "Obsplot(spec={'data': [], 'code': {'marks': [{'pyobsplot-type': 'function', 'module': 'Plot', 'method': 'dot',…"
      ]
     },
     "execution_count": 7,
     "metadata": {},
     "output_type": "execute_result"
    }
   ],
   "source": [
    "# null data\n",
    "Obsplot(\n",
    "    {\n",
    "        \"marks\": [Plot.dot(None)]\n",
    "    }\n",
    ")\n"
   ]
  }
 ],
 "metadata": {
  "kernelspec": {
   "display_name": "Python 3",
   "language": "python",
   "name": "python3"
  },
  "language_info": {
   "codemirror_mode": {
    "name": "ipython",
    "version": 3
   },
   "file_extension": ".py",
   "mimetype": "text/x-python",
   "name": "python",
   "nbconvert_exporter": "python",
   "pygments_lexer": "ipython3",
   "version": "3.10.10"
  },
  "orig_nbformat": 4
 },
 "nbformat": 4,
 "nbformat_minor": 2
}
