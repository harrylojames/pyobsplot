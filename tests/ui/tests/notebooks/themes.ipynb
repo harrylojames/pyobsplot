{
 "cells": [
  {
   "cell_type": "code",
   "execution_count": null,
   "metadata": {},
   "outputs": [],
   "source": [
    "import polars as pl\n",
    "from pyobsplot import Obsplot, Plot\n",
    "\n",
    "df = pl.DataFrame({\"x\": range(4), \"col\": list(\"AABB\")})\n",
    "\n",
    "\n",
    "opwl = Obsplot(renderer=\"widget\", theme=\"light\")\n",
    "opwl({\n",
    "    \"color\": {\"legend\": True},\n",
    "    \"marks\": [Plot.dot(df, {\"x\": \"x\", \"fill\": \"col\"})]\n",
    "})"
   ]
  },
  {
   "cell_type": "code",
   "execution_count": null,
   "metadata": {},
   "outputs": [],
   "source": [
    "opwd = Obsplot(renderer=\"widget\", theme=\"dark\")\n",
    "opwd({\n",
    "    \"color\": {\"legend\": True},\n",
    "    \"marks\": [Plot.dot(df, {\"x\": \"x\", \"fill\": \"col\"})]\n",
    "})"
   ]
  },
  {
   "cell_type": "code",
   "execution_count": null,
   "metadata": {},
   "outputs": [],
   "source": [
    "opwc = Obsplot(renderer=\"widget\", theme=\"current\")\n",
    "opwc({\n",
    "    \"color\": {\"legend\": True},\n",
    "    \"marks\": [Plot.dot(df, {\"x\": \"x\", \"fill\": \"col\"})]\n",
    "})"
   ]
  },
  {
   "cell_type": "code",
   "execution_count": null,
   "metadata": {},
   "outputs": [],
   "source": [
    "opjl = Obsplot(renderer=\"jsdom\", theme=\"light\")\n",
    "opjl({\n",
    "    \"color\": {\"legend\": True},\n",
    "    \"marks\": [Plot.dot(df, {\"x\": \"x\", \"fill\": \"col\"})]\n",
    "})"
   ]
  },
  {
   "cell_type": "code",
   "execution_count": null,
   "metadata": {},
   "outputs": [],
   "source": [
    "opjd = Obsplot(renderer=\"jsdom\", theme=\"dark\")\n",
    "opjd({\n",
    "    \"color\": {\"legend\": True},\n",
    "    \"marks\": [Plot.dot(df, {\"x\": \"x\", \"fill\": \"col\"})]\n",
    "})"
   ]
  },
  {
   "cell_type": "code",
   "execution_count": null,
   "metadata": {},
   "outputs": [],
   "source": [
    "opjc = Obsplot(renderer=\"jsdom\", theme=\"current\")\n",
    "opjc({\n",
    "    \"color\": {\"legend\": True},\n",
    "    \"marks\": [Plot.dot(df, {\"x\": \"x\", \"fill\": \"col\"})]\n",
    "})"
   ]
  }
 ],
 "metadata": {
  "kernelspec": {
   "display_name": "Python 3",
   "language": "python",
   "name": "python3"
  },
  "language_info": {
   "codemirror_mode": {
    "name": "ipython",
    "version": 3
   },
   "file_extension": ".py",
   "mimetype": "text/x-python",
   "name": "python",
   "nbconvert_exporter": "python",
   "pygments_lexer": "ipython3",
   "version": "3.10.11"
  },
  "orig_nbformat": 4
 },
 "nbformat": 4,
 "nbformat_minor": 2
}
