{
 "cells": [
  {
   "cell_type": "code",
   "execution_count": null,
   "metadata": {},
   "outputs": [],
   "source": [
    "from pyobsplot import Obsplot, Plot, d3, Math, js"
   ]
  },
  {
   "cell_type": "code",
   "execution_count": null,
   "metadata": {},
   "outputs": [],
   "source": [
    "import polars as pl\n",
    "\n",
    "df = pl.DataFrame(\n",
    "    {\"x\": list(range(10)), \"y\": list(range(10))[::-1], \"type\": list(\"aaabbbccdd\")}\n",
    ")\n",
    "\n",
    "# direct syntax\n",
    "Obsplot(\n",
    "    {\n",
    "        \"x\": {\"label\": \"x value\"},\n",
    "        \"color\": {\"legend\": True},\n",
    "        \"grid\": True,\n",
    "        \"marks\": [\n",
    "            Plot.dot(df, {\"x\": \"x\", \"y\": \"y\", \"fill\": \"type\"}),\n",
    "        ],\n",
    "    }\n",
    ")\n"
   ]
  },
  {
   "cell_type": "code",
   "execution_count": null,
   "metadata": {},
   "outputs": [],
   "source": [
    "# kwargs syntax\n",
    "Obsplot(\n",
    "    x={\"label\": \"x value\"},\n",
    "    color={\"legend\": True},\n",
    "    grid=True,\n",
    "    marks=[\n",
    "        Plot.dot(df, {\"x\": \"x\", \"y\": \"y\", \"fill\": \"type\"}),\n",
    "    ],\n",
    ")\n"
   ]
  },
  {
   "cell_type": "code",
   "execution_count": null,
   "metadata": {},
   "outputs": [],
   "source": [
    "# Plot.plot syntax\n",
    "Obsplot(\n",
    "    Plot.plot(\n",
    "        {\n",
    "            \"x\": {\"label\": \"x value\"},\n",
    "            \"color\": {\"legend\": True},\n",
    "            \"grid\": True,\n",
    "            \"marks\": [\n",
    "                Plot.dot(df, {\"x\": \"x\", \"y\": \"y\", \"fill\": \"type\"}),\n",
    "            ],\n",
    "        }\n",
    "    )\n",
    ")\n"
   ]
  },
  {
   "cell_type": "code",
   "execution_count": null,
   "metadata": {},
   "outputs": [],
   "source": [
    "# Plot.dot syntax\n",
    "Obsplot(Plot.dot(df, {\"x\": \"x\", \"y\": \"y\", \"fill\": \"type\"}))\n"
   ]
  }
 ],
 "metadata": {
  "kernelspec": {
   "display_name": "Python 3",
   "language": "python",
   "name": "python3"
  },
  "language_info": {
   "codemirror_mode": {
    "name": "ipython",
    "version": 3
   },
   "file_extension": ".py",
   "mimetype": "text/x-python",
   "name": "python",
   "nbconvert_exporter": "python",
   "pygments_lexer": "ipython3",
   "version": "3.10.10"
  },
  "orig_nbformat": 4
 },
 "nbformat": 4,
 "nbformat_minor": 2
}
