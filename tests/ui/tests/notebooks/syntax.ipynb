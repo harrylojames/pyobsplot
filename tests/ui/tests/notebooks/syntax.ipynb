{
 "cells": [
  {
   "cell_type": "code",
   "execution_count": 5,
   "metadata": {},
   "outputs": [
    {
     "data": {
      "application/vnd.jupyter.widget-view+json": {
       "model_id": "498255f62ec347d08b9727f57b2c7bec",
       "version_major": 2,
       "version_minor": 0
      },
      "text/plain": [
       "Obsplot(spec={'data': [b'ARROW1\\x00\\x00\\xff\\xff\\xff\\xff\\xd8\\x00\\x00\\x00\\x10\\x00\\x00\\x00\\x00\\x00\\n\\x00\\x0c\\x00\\…"
      ]
     },
     "execution_count": 5,
     "metadata": {},
     "output_type": "execute_result"
    }
   ],
   "source": [
    "import polars as pl\n",
    "from pyobsplot import Obsplot, Plot, d3, Math, js\n",
    "\n",
    "df = pl.DataFrame(\n",
    "    {\"x\": list(range(10)), \"y\": list(range(10))[::-1], \"type\": list(\"aaabbbccdd\")}\n",
    ")\n",
    "\n",
    "# dict syntax\n",
    "Obsplot(\n",
    "    {\n",
    "        \"x\": {\"label\": \"x value\"},\n",
    "        \"color\": {\"legend\": True},\n",
    "        \"grid\": True,\n",
    "        \"marks\": [\n",
    "            Plot.dot(df, {\"x\": \"x\", \"y\": \"y\", \"fill\": \"type\"}),\n",
    "        ],\n",
    "    }\n",
    ")\n"
   ]
  },
  {
   "cell_type": "code",
   "execution_count": 6,
   "metadata": {},
   "outputs": [
    {
     "data": {
      "application/vnd.jupyter.widget-view+json": {
       "model_id": "b8899616dfda49829f85ab3e70b7c032",
       "version_major": 2,
       "version_minor": 0
      },
      "text/plain": [
       "Obsplot(spec={'data': [b'ARROW1\\x00\\x00\\xff\\xff\\xff\\xff\\xd8\\x00\\x00\\x00\\x10\\x00\\x00\\x00\\x00\\x00\\n\\x00\\x0c\\x00\\…"
      ]
     },
     "execution_count": 6,
     "metadata": {},
     "output_type": "execute_result"
    }
   ],
   "source": [
    "# kwargs syntax\n",
    "Obsplot(\n",
    "    x={\"label\": \"x value\"},\n",
    "    color={\"legend\": True},\n",
    "    grid=True,\n",
    "    marks=[\n",
    "        Plot.dot(df, {\"x\": \"x\", \"y\": \"y\", \"fill\": \"type\"}),\n",
    "    ],\n",
    ")\n"
   ]
  },
  {
   "cell_type": "code",
   "execution_count": 7,
   "metadata": {},
   "outputs": [
    {
     "data": {
      "application/vnd.jupyter.widget-view+json": {
       "model_id": "8298fe6e2f0f4049bab2f54f540f1896",
       "version_major": 2,
       "version_minor": 0
      },
      "text/plain": [
       "Obsplot(spec={'data': [b'ARROW1\\x00\\x00\\xff\\xff\\xff\\xff\\xd8\\x00\\x00\\x00\\x10\\x00\\x00\\x00\\x00\\x00\\n\\x00\\x0c\\x00\\…"
      ]
     },
     "execution_count": 7,
     "metadata": {},
     "output_type": "execute_result"
    }
   ],
   "source": [
    "# Plot.plot syntax\n",
    "Obsplot(\n",
    "    Plot.plot(\n",
    "        {\n",
    "            \"x\": {\"label\": \"x value\"},\n",
    "            \"color\": {\"legend\": True},\n",
    "            \"grid\": True,\n",
    "            \"marks\": [\n",
    "                Plot.dot(df, {\"x\": \"x\", \"y\": \"y\", \"fill\": \"type\"}),\n",
    "            ],\n",
    "        }\n",
    "    )\n",
    ")\n"
   ]
  },
  {
   "cell_type": "code",
   "execution_count": 8,
   "metadata": {},
   "outputs": [
    {
     "data": {
      "application/vnd.jupyter.widget-view+json": {
       "model_id": "9ac6508a19fe4c29817de4a85b0a9d3e",
       "version_major": 2,
       "version_minor": 0
      },
      "text/plain": [
       "Obsplot(spec={'data': [b'ARROW1\\x00\\x00\\xff\\xff\\xff\\xff\\xd8\\x00\\x00\\x00\\x10\\x00\\x00\\x00\\x00\\x00\\n\\x00\\x0c\\x00\\…"
      ]
     },
     "execution_count": 8,
     "metadata": {},
     "output_type": "execute_result"
    }
   ],
   "source": [
    "# Plot.dot syntax\n",
    "Obsplot(Plot.dot(df, {\"x\": \"x\", \"y\": \"y\", \"fill\": \"type\"}))\n"
   ]
  }
 ],
 "metadata": {
  "kernelspec": {
   "display_name": "Python 3",
   "language": "python",
   "name": "python3"
  },
  "language_info": {
   "codemirror_mode": {
    "name": "ipython",
    "version": 3
   },
   "file_extension": ".py",
   "mimetype": "text/x-python",
   "name": "python",
   "nbconvert_exporter": "python",
   "pygments_lexer": "ipython3",
   "version": "3.10.10"
  },
  "orig_nbformat": 4
 },
 "nbformat": 4,
 "nbformat_minor": 2
}
