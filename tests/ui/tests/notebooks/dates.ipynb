{
 "cells": [
  {
   "cell_type": "code",
   "execution_count": 9,
   "metadata": {},
   "outputs": [
    {
     "data": {
      "application/vnd.jupyter.widget-view+json": {
       "model_id": "7560c70f3603403dbf2db51ca7176ae5",
       "version_major": 2,
       "version_minor": 0
      },
      "text/plain": [
       "Obsplot(spec={'data': [], 'code': {'x': {'domain': {'pyobsplot-type': 'js', 'value': \"[new Date('2021-01-01'),…"
      ]
     },
     "execution_count": 9,
     "metadata": {},
     "output_type": "execute_result"
    }
   ],
   "source": [
    "from pyobsplot import Obsplot, Plot, d3, Math, js"
   ]
  },
  {
   "cell_type": "code",
   "execution_count": null,
   "metadata": {},
   "outputs": [],
   "source": [
    "\n",
    "import polars as pl\n",
    "import pandas as pd\n",
    "import datetime\n",
    "\n",
    "# Dates passed as JS array\n",
    "Obsplot({\"x\": {\"domain\": js(\"[new Date('2021-01-01'), new Date('2022-01-01')]\")}, \"grid\": True})"
   ]
  },
  {
   "cell_type": "code",
   "execution_count": 4,
   "metadata": {},
   "outputs": [
    {
     "data": {
      "application/vnd.jupyter.widget-view+json": {
       "model_id": "dccff2be2b55481fb3e18bb6bd9a935d",
       "version_major": 2,
       "version_minor": 0
      },
      "text/plain": [
       "Obsplot(spec={'data': [], 'code': {'x': {'domain': [{'pyobsplot-type': 'js', 'value': \"new Date('2021-01-01')\"…"
      ]
     },
     "execution_count": 4,
     "metadata": {},
     "output_type": "execute_result"
    }
   ],
   "source": [
    "# Dates passed as array of JS\n",
    "Obsplot({\"x\": {\"domain\": [js(\"new Date('2021-01-01')\"), js(\"new Date('2022-01-01')\")]}, \"grid\": True})"
   ]
  },
  {
   "cell_type": "code",
   "execution_count": 5,
   "metadata": {},
   "outputs": [
    {
     "data": {
      "application/vnd.jupyter.widget-view+json": {
       "model_id": "325fa5d7cc5c4664986fe003630d6a3d",
       "version_major": 2,
       "version_minor": 0
      },
      "text/plain": [
       "Obsplot(spec={'data': [], 'code': {'x': {'domain': [{'pyobsplot-type': 'datetime', 'value': '2021-01-01'}, {'p…"
      ]
     },
     "execution_count": 5,
     "metadata": {},
     "output_type": "execute_result"
    }
   ],
   "source": [
    "# Dates passed as datetime.date\n",
    "Obsplot({\"x\": {\"domain\": [datetime.date(2021,1,1), datetime.date(2022,1,1)]}, \"grid\": True})"
   ]
  },
  {
   "cell_type": "code",
   "execution_count": 6,
   "metadata": {},
   "outputs": [
    {
     "data": {
      "application/vnd.jupyter.widget-view+json": {
       "model_id": "a0f0f771324c40eab5b872827751002d",
       "version_major": 2,
       "version_minor": 0
      },
      "text/plain": [
       "Obsplot(spec={'data': [], 'code': {'x': {'type': 'time', 'domain': [{'pyobsplot-type': 'datetime', 'value': '2…"
      ]
     },
     "execution_count": 6,
     "metadata": {},
     "output_type": "execute_result"
    }
   ],
   "source": [
    "# datetime.datetime\n",
    "Obsplot(\n",
    "    {\n",
    "        \"x\": {\n",
    "            \"type\": \"time\",\n",
    "            \"domain\": [\n",
    "                datetime.datetime(2021, 1, 1, 8, 0, 0),\n",
    "                datetime.datetime(2021, 1, 1, 8, 1, 0),\n",
    "            ],\n",
    "        },\n",
    "        \"grid\": True,\n",
    "    }\n",
    ")"
   ]
  },
  {
   "cell_type": "code",
   "execution_count": 14,
   "metadata": {},
   "outputs": [
    {
     "data": {
      "application/vnd.jupyter.widget-view+json": {
       "model_id": "46469839f76b4e0fb2eb642404e89836",
       "version_major": 2,
       "version_minor": 0
      },
      "text/plain": [
       "Obsplot(spec={'data': [b'ARROW1\\x00\\x00\\xff\\xff\\xff\\xff\\xb0\\x00\\x00\\x00\\x10\\x00\\x00\\x00\\x00\\x00\\n\\x00\\x0c\\x00\\…"
      ]
     },
     "execution_count": 14,
     "metadata": {},
     "output_type": "execute_result"
    }
   ],
   "source": [
    "# datetime.date in polars DataFrame\n",
    "d_pl = pl.DataFrame({\n",
    "    \"Date\": [datetime.date(2021,1,1), datetime.date(2021,1,2), datetime.date(2021,1,3)],\n",
    "    \"value\": [1,2,3]\n",
    "})\n",
    "Obsplot({\n",
    "    \"marks\": [Plot.dot(d_pl, {\"x\": \"Date\", \"y\": \"value\"})]\n",
    "})"
   ]
  },
  {
   "cell_type": "code",
   "execution_count": 16,
   "metadata": {},
   "outputs": [
    {
     "data": {
      "application/vnd.jupyter.widget-view+json": {
       "model_id": "d0ce5d88b3004053a945ca78670edfc3",
       "version_major": 2,
       "version_minor": 0
      },
      "text/plain": [
       "Obsplot(spec={'data': [b'ARROW1\\x00\\x00\\xff\\xff\\xff\\xff\\xb0\\x00\\x00\\x00\\x10\\x00\\x00\\x00\\x00\\x00\\n\\x00\\x0c\\x00\\…"
      ]
     },
     "execution_count": 16,
     "metadata": {},
     "output_type": "execute_result"
    }
   ],
   "source": [
    "# datetime.datetime in polars DataFrame\n",
    "d_pl = pl.DataFrame({\n",
    "    \"Date\": [datetime.datetime(2021,1,1,8,0,0), datetime.datetime(2021,1,1,8,0,1), datetime.datetime(2021,1,1,8,0,2)],\n",
    "    \"value\": [1,2,3]\n",
    "})\n",
    "Obsplot({\n",
    "    \"marks\": [Plot.dot(d_pl, {\"x\": \"Date\", \"y\": \"value\"})]\n",
    "})"
   ]
  },
  {
   "cell_type": "code",
   "execution_count": 17,
   "metadata": {},
   "outputs": [
    {
     "data": {
      "application/vnd.jupyter.widget-view+json": {
       "model_id": "14c6674e2cae4285855b654c445494b4",
       "version_major": 2,
       "version_minor": 0
      },
      "text/plain": [
       "Obsplot(spec={'data': [b'ARROW1\\x00\\x00\\xff\\xff\\xff\\xff\\x00\\x03\\x00\\x00\\x10\\x00\\x00\\x00\\x00\\x00\\n\\x00\\x0e\\x00\\…"
      ]
     },
     "execution_count": 17,
     "metadata": {},
     "output_type": "execute_result"
    }
   ],
   "source": [
    "# datetime.date in pandas DataFrame\n",
    "d_pd = pd.DataFrame({\n",
    "    \"Date\": [datetime.date(2021,1,1), datetime.date(2021,1,2), datetime.date(2021,1,3)],\n",
    "    \"value\": [1,2,3]\n",
    "})\n",
    "Obsplot({\n",
    "    \"marks\": [Plot.dot(d_pd, {\"x\": \"Date\", \"y\": \"value\"})]\n",
    "})"
   ]
  },
  {
   "cell_type": "code",
   "execution_count": 18,
   "metadata": {},
   "outputs": [
    {
     "data": {
      "application/vnd.jupyter.widget-view+json": {
       "model_id": "ec375dc4a5834994906a0d9eb8c7bb69",
       "version_major": 2,
       "version_minor": 0
      },
      "text/plain": [
       "Obsplot(spec={'data': [b'ARROW1\\x00\\x00\\xff\\xff\\xff\\xff\\x08\\x03\\x00\\x00\\x10\\x00\\x00\\x00\\x00\\x00\\n\\x00\\x0e\\x00\\…"
      ]
     },
     "execution_count": 18,
     "metadata": {},
     "output_type": "execute_result"
    }
   ],
   "source": [
    "# datetime.datetime in pandas DataFrame\n",
    "d_pd = pd.DataFrame({\n",
    "    \"Date\": [datetime.datetime(2021,1,1,8,0,0), datetime.datetime(2021,1,1,8,0,1), datetime.datetime(2021,1,1,8,0,2)],\n",
    "    \"value\": [1,2,3]\n",
    "})\n",
    "Obsplot({\n",
    "    \"marks\": [Plot.dot(d_pd, {\"x\": \"Date\", \"y\": \"value\"})]\n",
    "})"
   ]
  }
 ],
 "metadata": {
  "kernelspec": {
   "display_name": "Python 3",
   "language": "python",
   "name": "python3"
  },
  "language_info": {
   "codemirror_mode": {
    "name": "ipython",
    "version": 3
   },
   "file_extension": ".py",
   "mimetype": "text/x-python",
   "name": "python",
   "nbconvert_exporter": "python",
   "pygments_lexer": "ipython3",
   "version": "3.10.10"
  },
  "orig_nbformat": 4
 },
 "nbformat": 4,
 "nbformat_minor": 2
}
