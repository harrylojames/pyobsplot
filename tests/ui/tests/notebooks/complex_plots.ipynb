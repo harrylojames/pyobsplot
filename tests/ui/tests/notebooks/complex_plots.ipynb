{
 "cells": [
  {
   "cell_type": "code",
   "execution_count": 4,
   "metadata": {},
   "outputs": [
    {
     "data": {
      "application/vnd.jupyter.widget-view+json": {
       "model_id": "6022af0437844672b82d751d09587008",
       "version_major": 2,
       "version_minor": 0
      },
      "text/plain": [
       "Obsplot(spec={'data': [b'ARROW1\\x00\\x00\\xff\\xff\\xff\\xff\\x10\\x03\\x00\\x00\\x10\\x00\\x00\\x00\\x00\\x00\\n\\x00\\x0c\\x00\\…"
      ]
     },
     "execution_count": 4,
     "metadata": {},
     "output_type": "execute_result"
    }
   ],
   "source": [
    "import polars as pl\n",
    "from pyobsplot import Obsplot, Plot, d3, Math, js\n",
    "\n",
    "simpsons = pl.read_csv(\"data/simpsons.csv\")\n",
    "penguins = pl.read_csv(\"data/penguins.csv\")\n",
    "metros = pl.read_csv(\"data/metros.csv\")\n",
    "\n",
    "# simpsons cell plot\n",
    "Obsplot({\n",
    "  \"height\": 640,\n",
    "  \"padding\": 0.05,\n",
    "  \"grid\": True,\n",
    "  \"x\": {\"axis\": \"top\", \"label\": \"Season\"},\n",
    "  \"y\": {\"label\": \"Episode\"},\n",
    "  \"color\": {\"type\": \"linear\", \"scheme\": \"PiYG\"},\n",
    "  \"marks\": [\n",
    "    Plot.cell(simpsons, {\"x\": \"season\", \"y\": \"number_in_season\", \"fill\": \"imdb_rating\"}),\n",
    "    Plot.text(simpsons, {\"x\": \"season\", \"y\": \"number_in_season\", \"text\": \"imdb_rating\", \"title\": \"title\"})\n",
    "  ]    \n",
    "})\n"
   ]
  },
  {
   "cell_type": "code",
   "execution_count": 3,
   "metadata": {},
   "outputs": [
    {
     "data": {
      "application/vnd.jupyter.widget-view+json": {
       "model_id": "e61f9d8fff35445c9b168fb50cf1b7fe",
       "version_major": 2,
       "version_minor": 0
      },
      "text/plain": [
       "Obsplot(spec={'data': [b'ARROW1\\x00\\x00\\xff\\xff\\xff\\xff\\xb0\\x01\\x00\\x00\\x10\\x00\\x00\\x00\\x00\\x00\\n\\x00\\x0c\\x00\\…"
      ]
     },
     "execution_count": 3,
     "metadata": {},
     "output_type": "execute_result"
    }
   ],
   "source": [
    "# penguins faceted plot\n",
    "Obsplot({\n",
    "  \"height\": 600,\n",
    "  \"grid\": True,\n",
    "  \"facet\": {\n",
    "    \"data\": penguins,\n",
    "    \"x\": \"sex\",\n",
    "    \"y\": \"species\",\n",
    "    \"marginRight\": 80\n",
    "  },\n",
    "  \"marks\": [\n",
    "    Plot.frame({\"facet\": False}),\n",
    "    Plot.dot(penguins, {\n",
    "      \"x\": \"culmen_depth_mm\",\n",
    "      \"y\": \"culmen_length_mm\",\n",
    "      \"r\": 1.5,\n",
    "      \"fill\": \"#ccc\",\n",
    "      \"facet\": \"exclude\"\n",
    "    }),\n",
    "    Plot.dot(penguins, {\n",
    "       \"x\": \"culmen_depth_mm\",\n",
    "       \"y\": \"culmen_length_mm\",\n",
    "       \"facet\": True\n",
    "    })\n",
    "  ]\n",
    "})"
   ]
  },
  {
   "cell_type": "code",
   "execution_count": 5,
   "metadata": {},
   "outputs": [
    {
     "data": {
      "application/vnd.jupyter.widget-view+json": {
       "model_id": "4cf9c25276b44b28b1cbb669ea59467f",
       "version_major": 2,
       "version_minor": 0
      },
      "text/plain": [
       "Obsplot(spec={'data': [b'ARROW1\\x00\\x00\\xff\\xff\\xff\\xffX\\x02\\x00\\x00\\x10\\x00\\x00\\x00\\x00\\x00\\n\\x00\\x0c\\x00\\x06…"
      ]
     },
     "execution_count": 5,
     "metadata": {},
     "output_type": "execute_result"
    }
   ],
   "source": [
    "# metros arrow plot\n",
    "Obsplot({\n",
    "  \"height\": 600,\n",
    "  \"grid\": True,\n",
    "  \"inset\": 10,\n",
    "  \"x\": {\n",
    "    \"type\": \"log\",\n",
    "    \"label\": \"Population →\"\n",
    "  },\n",
    "  \"y\": {\n",
    "    \"label\": \"↑ Inequality\",\n",
    "    \"ticks\": 4\n",
    "  },\n",
    "  \"color\": {\n",
    "    \"type\": \"diverging\",\n",
    "    \"scheme\": \"burd\",\n",
    "    \"label\": \"Change in inequality from 1980 to 2015\",\n",
    "    \"legend\": True,\n",
    "    \"ticks\": 6,\n",
    "    \"tickFormat\": \"+f\"\n",
    "  },\n",
    "  \"marks\": [\n",
    "    Plot.arrow(metros, {\n",
    "      \"x1\": \"POP_1980\",\n",
    "      \"y1\": \"R90_10_1980\",\n",
    "      \"x2\": \"POP_2015\",\n",
    "      \"y2\": \"R90_10_2015\",\n",
    "      \"bend\": True,\n",
    "      \"stroke\": js(\"d => d.R90_10_2015 - d.R90_10_1980\")\n",
    "    }),\n",
    "    Plot.text(metros, {\n",
    "      \"x\": \"POP_2015\",\n",
    "      \"y\": \"R90_10_2015\",\n",
    "      \"filter\": \"highlight\",\n",
    "      \"text\": \"nyt_display\",\n",
    "      \"fill\": \"currentColor\",\n",
    "      \"stroke\": \"white\",\n",
    "      \"dy\": -6\n",
    "    })\n",
    "  ]\n",
    "})"
   ]
  }
 ],
 "metadata": {
  "kernelspec": {
   "display_name": "Python 3",
   "language": "python",
   "name": "python3"
  },
  "language_info": {
   "codemirror_mode": {
    "name": "ipython",
    "version": 3
   },
   "file_extension": ".py",
   "mimetype": "text/x-python",
   "name": "python",
   "nbconvert_exporter": "python",
   "pygments_lexer": "ipython3",
   "version": "3.10.10"
  },
  "orig_nbformat": 4
 },
 "nbformat": 4,
 "nbformat_minor": 2
}
