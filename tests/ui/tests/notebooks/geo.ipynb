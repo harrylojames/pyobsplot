{
 "cells": [
  {
   "cell_type": "code",
   "execution_count": 1,
   "metadata": {},
   "outputs": [
    {
     "data": {
      "application/vnd.jupyter.widget-view+json": {
       "model_id": "d750e3da33f84272bdb087795dda25a1",
       "version_major": 2,
       "version_minor": 0
      },
      "text/plain": [
       "Obsplot(spec={'data': [{'type': 'FeatureCollection', 'features': [{'type': 'Feature', 'properties': {'GEO_ID':…"
      ]
     },
     "execution_count": 1,
     "metadata": {},
     "output_type": "execute_result"
    }
   ],
   "source": [
    "import polars as pl\n",
    "from pyobsplot import Obsplot, Plot, d3, Math, js\n",
    "import json\n",
    "\n",
    "with open(\"data/us_states.json\", 'r') as f:\n",
    "  us_states = json.load(f)\n",
    "\n",
    "Obsplot({\n",
    "  \"projection\": \"albers-usa\",\n",
    "  \"color\": {\n",
    "    \"type\": \"quantile\",\n",
    "    \"n\": 8,\n",
    "    \"scheme\": \"blues\",\n",
    "    \"label\": \"Unemployment (%)\",\n",
    "    \"legend\": True\n",
    "  },\n",
    "  \"marks\": [\n",
    "    Plot.geo(us_states, {\"fill\": \"grey\", \"stroke\": \"white\"})\n",
    "  ]\n",
    "})"
   ]
  },
  {
   "cell_type": "code",
   "execution_count": 2,
   "metadata": {},
   "outputs": [
    {
     "data": {
      "application/vnd.jupyter.widget-view+json": {
       "model_id": "468f675c187d4bdbaf1a3557b7b70cc3",
       "version_major": 2,
       "version_minor": 0
      },
      "text/plain": [
       "Obsplot(spec={'data': [b'ARROW1\\x00\\x00\\xff\\xff\\xff\\xff\\xc8\\x03\\x00\\x00\\x10\\x00\\x00\\x00\\x00\\x00\\n\\x00\\x0c\\x00\\…"
      ]
     },
     "execution_count": 2,
     "metadata": {},
     "output_type": "execute_result"
    }
   ],
   "source": [
    "ca55 = pl.read_csv(\"data/ca55-south.csv\")\n",
    "\n",
    "projection = {\n",
    "  \"type\": \"mercator\",\n",
    "  \"domain\": {\n",
    "    \"type\": \"MultiPoint\",\n",
    "    \"coordinates\": ca55.select([\"LONGITUDE\", \"LATITUDE\"])\n",
    "  }\n",
    "}\n",
    "\n",
    "Obsplot({\n",
    "  \"data\": \"projection\",\n",
    "  \"x\": {\"axis\": None},\n",
    "  \"y\": {\"axis\": None},\n",
    "  \"inset\": 10,\n",
    "  \"margin\": 10,\n",
    "  \"height\": 500,\n",
    "  \"marginBottom\": 2,\n",
    "  \"color\": { \"type\": \"diverging\" },\n",
    "  \"marks\": [\n",
    "    Plot.raster(ca55, {\n",
    "      \"x\": \"LONGITUDE\",\n",
    "      \"y\": \"LATITUDE\",\n",
    "      \"fill\": \"MAG_IGRF90\",\n",
    "      \"interpolate\": \"random-walk\"\n",
    "    }),\n",
    "    Plot.frame()\n",
    "  ]\n",
    "})"
   ]
  },
  {
   "cell_type": "code",
   "execution_count": null,
   "metadata": {},
   "outputs": [],
   "source": [
    "# vapor contour plot\n",
    "vapor = (\n",
    "    pl.read_csv(\"data/vapor.csv\", has_header=False, null_values=\"99999.0\")\n",
    "    .transpose()\n",
    "    .melt(variable_name=\"column\", value_name=\"values\")\n",
    ")\n",
    "\n",
    "Obsplot(\n",
    "    {\n",
    "        \"projection\": \"equal-earth\",\n",
    "        \"color\": {\n",
    "            \"scheme\": \"blues\",\n",
    "            \"legend\": True,\n",
    "            \"ticks\": 6,\n",
    "            \"nice\": True,\n",
    "            \"label\": \"Water vapor (cm)\",\n",
    "        },\n",
    "        \"marks\": [\n",
    "            Plot.contour(\n",
    "                vapor,\n",
    "                {\n",
    "                    \"fill\": \"values\",\n",
    "                    \"width\": 360,\n",
    "                    \"height\": 180,\n",
    "                    \"x1\": -180,\n",
    "                    \"y1\": 90,\n",
    "                    \"x2\": 180,\n",
    "                    \"y2\": -90,\n",
    "                    \"interval\": 0.25,\n",
    "                    \"blur\": 0.5,\n",
    "                    \"interpolate\": \"barycentric\",\n",
    "                    \"stroke\": \"currentColor\",\n",
    "                    \"strokeWidth\": 0.5,\n",
    "                    \"clip\": \"sphere\",\n",
    "                },\n",
    "            ),\n",
    "            Plot.sphere(),\n",
    "        ],\n",
    "    }\n",
    ")"
   ]
  }
 ],
 "metadata": {
  "kernelspec": {
   "display_name": "Python 3",
   "language": "python",
   "name": "python3"
  },
  "language_info": {
   "codemirror_mode": {
    "name": "ipython",
    "version": 3
   },
   "file_extension": ".py",
   "mimetype": "text/x-python",
   "name": "python",
   "nbconvert_exporter": "python",
   "pygments_lexer": "ipython3",
   "version": "3.10.10"
  },
  "orig_nbformat": 4
 },
 "nbformat": 4,
 "nbformat_minor": 2
}
