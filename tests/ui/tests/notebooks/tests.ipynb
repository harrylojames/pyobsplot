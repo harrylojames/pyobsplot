{
 "cells": [
  {
   "cell_type": "code",
   "execution_count": 1,
   "metadata": {},
   "outputs": [],
   "source": [
    "import pandas as pd\n",
    "import polars as pl\n",
    "from pyobsplot import Obsplot, Plot, d3, Math, js\n",
    "\n",
    "df = pl.DataFrame({\"x\": [1,2], \"y\": [3,4]})\n",
    "Obsplot({\n",
    "    \"marks\": [\n",
    "        Plot.dot(df, {\"x\": \"x\", \"y\": \"y\"}),\n",
    "        Plot.dot(df, {\"x\": \"x\", \"y\": \"y\", \"fill\": \"red\"})\n",
    "    ]\n",
    "})"
   ]
  }
 ],
 "metadata": {
  "kernelspec": {
   "display_name": "Python 3",
   "language": "python",
   "name": "python3"
  },
  "language_info": {
   "codemirror_mode": {
    "name": "ipython",
    "version": 3
   },
   "file_extension": ".py",
   "mimetype": "text/x-python",
   "name": "python",
   "nbconvert_exporter": "python",
   "pygments_lexer": "ipython3",
   "version": "3.10.10"
  },
  "orig_nbformat": 4
 },
 "nbformat": 4,
 "nbformat_minor": 2
}
